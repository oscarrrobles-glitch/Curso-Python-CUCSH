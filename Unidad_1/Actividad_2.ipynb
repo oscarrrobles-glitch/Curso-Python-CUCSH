{
  "nbformat": 4,
  "nbformat_minor": 0,
  "metadata": {
    "colab": {
      "provenance": [],
      "include_colab_link": true
    },
    "kernelspec": {
      "name": "python3",
      "display_name": "Python 3"
    },
    "language_info": {
      "name": "python"
    }
  },
  "cells": [
    {
      "cell_type": "markdown",
      "metadata": {
        "id": "view-in-github",
        "colab_type": "text"
      },
      "source": [
        "<a href=\"https://colab.research.google.com/github/oscarrrobles-glitch/Curso-Python-CUCSH/blob/main/Unidad_1/Actividad_2.ipynb\" target=\"_parent\"><img src=\"https://colab.research.google.com/assets/colab-badge.svg\" alt=\"Open In Colab\"/></a>"
      ]
    },
    {
      "cell_type": "markdown",
      "source": [
        "# Actividad 2\n",
        "**Oscar Robles Vásquez**\n",
        "\n",
        "**Departamento de Ingeniería Química**\n",
        "\n",
        "**Campus: Centro Universitario de Ciencias Exactas e Ingeniería.**\n",
        "\n",
        "Fecha: 22/09/2025"
      ],
      "metadata": {
        "id": "CXcaCTY2C73j"
      }
    },
    {
      "cell_type": "code",
      "source": [
        "from google.colab import drive\n",
        "drive.mount('/content/drive')"
      ],
      "metadata": {
        "colab": {
          "base_uri": "https://localhost:8080/"
        },
        "id": "mTaptd-3C2sU",
        "outputId": "f5328ed5-4360-4cf9-f666-e3d8d97fdfc4"
      },
      "execution_count": null,
      "outputs": [
        {
          "output_type": "stream",
          "name": "stdout",
          "text": [
            "Mounted at /content/drive\n"
          ]
        }
      ]
    },
    {
      "cell_type": "code",
      "source": [
        "nombre_archivo = \"CD.txt\"\n",
        "ruta = \"/content/drive/MyDrive/Colab_Data/\"\n",
        "\n",
        "with open(ruta + nombre_archivo, 'r') as f:\n",
        "  contenido = f.read()\n",
        "  print(contenido)\n"
      ],
      "metadata": {
        "colab": {
          "base_uri": "https://localhost:8080/"
        },
        "id": "taOuP-Q6HH81",
        "outputId": "c5bcfce4-1992-46ed-ffa0-7495b66423f7"
      },
      "execution_count": null,
      "outputs": [
        {
          "output_type": "stream",
          "name": "stdout",
          "text": [
            "\n",
            "\n",
            "\n",
            "Introducción al Cálculo Diferencial: Un Curso Básico de Álgebra y Funciones.\n",
            "\n",
            "\n",
            "Oscar Robles Vásquez; Jaime Rubén Pérez Leaño; López Contreras Narda Lizbet, Cinthia Astrid Reyes, Agustín Martínez Ruvalcaba.\n",
            "\n",
            "\n",
            "    El estudio del cálculo diferencial exige, como requisito indispensable, un conocimiento sólido del álgebra y la teoría de funciones. Estas dos áreas constituyen la estructura fundamental sobre la cual se erigen todos los conceptos del cálculo. El álgebra constituye el lenguaje simbólico y la herramienta operativa del cálculo. Su dominio es esencial para la manipulación rigurosa de expresiones, la simplificación de problemas complejos y la resolución de las ecuaciones que emergen tras la aplicación de los principios del cálculo. Sin una sólida competencia algebraica, la aplicación de conceptos como la derivada a partir de su definición formal, o la determinación de valores críticos como máximos y mínimos, se convierte en una tarea complicada. En esencia, el álgebra proporciona la capacidad procedimental para transitar desde el planteamiento teórico de un problema hasta su solución cuantitativa. Por su parte, las funciones representan el objeto de estudio primordial del cálculo diferencial. El cálculo es, en su núcleo, la ciencia del cambio, y las funciones son el formalismo matemático para describir cómo una cantidad varía en relación con otra. Conceptos centrales como la tasa de cambio instantánea (la derivada), los límites y la continuidad son propiedades inherentes al comportamiento de las funciones. Una comprensión cabal de sus dominios, rangos y representaciones gráficas es crucial para interpretar geométricamente la derivada como la pendiente de la recta tangente y, por ende, para visualizar y comprender intuitivamente los fenómenos que el cálculo modela.\n",
            "    En conclusión, mientras el álgebra proporciona las herramientas operativas, el estudio de funciones aporta el contexto y el objeto de análisis. Reconociendo esta relación simbiótica, la presente obra, \"Introducción al Cálculo Diferencial: Un Curso Básico de Álgebra y Funciones\", ha sido estructurada para consolidar estas dos áreas pilares antes de abordar los conceptos propios del cálculo, garantizando así una comprensión genuina y duradera de sus principios fundamentales.\n",
            "    Este libro \"Introducción al Cálculo Diferencial: Un Curso Básico de Álgebra y Funciones\", está dirigido a estudiantes que ingresan al nivel universitario, los cuales ya tienen alguna experiencia previa de un curso de álgebra el libro trata principalmente de 12 temas esenciales de álgebra y principios de funciones: 1) Números Reales; 2) Expresiones Algebraicas; 3) Productos Notables y Factorización; 4) Expresiones Racionales; 5) Ecuaciones Algebraicas; 6) Desigualdades; 7) Ecuaciones de Rectas; 8) Ecuaciones Lineales Simultáneas; 9) Exponentes y Logaritmos; 10) Sistemas de Ecuaciones no Lineales; 11) Principios de Funciones; 12) Funciones Exponenciales y Logarítmicas. Adicionalmente, 2 temas de cálculo diferencial como introducción al cálculo diferencial: 13) Límites de Funciones y 14) Derivada de Funciones. \n",
            "    El esquema de desarrollo plasmado en este libro inicia i) presentando el concepto a trabajar de forma breve; ii) hace énfasis en las propiedades aplicadas al resolver un problema particular, mostrando ejemplos simples para aplicar estas propiedades; iii) presenta ejemplos de diferentes grados de dificultad, resolviendo paso a paso y explicando el proceso resolución; iv) aclara durante el proceso de resolución, los errores algebraicos típicos que suelen cometerse; iv) utiliza como herramienta de apoyo el Software GeoGebra (http://www.geogebra.org/) el cual permite interactuar dinámicamente en la geometría, el álgebra, el análisis matemático y el cálculo diferencial.\n",
            "    Este esquema de trabajo pretende nivelar, reforzar y profundizar en los estudiantes los conocimientos necesarios para los cursos de matemáticas posteriores. El presente texto invita a desarrollar en los estudiantes habilidades de manejo algebraico y operatividad en los catorce temas del contenido de este libro; además de reforzar y aclarar los conceptos algebraicos identificados como los más críticos y en los que más errores se cometen.\n",
            "    Es importante hacer notar que el material presentado en este libro es básico en un curso de cálculo diferencial e integral, por lo tanto, el presente texto puede ser una herramienta de apoyo para los estudiantes que cursan un nivel posterior de matemáticas. Ha sido identificado que gran parte de los problemas que un estudiante se encuentra en un curso de matemáticas avanzadas  son propiamente de los doce temas de álgebra y funciones tratados en este libro.\n",
            "\n"
          ]
        }
      ]
    }
  ]
}