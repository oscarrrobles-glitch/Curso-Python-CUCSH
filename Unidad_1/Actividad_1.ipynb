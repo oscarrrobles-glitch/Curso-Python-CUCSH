{
  "nbformat": 4,
  "nbformat_minor": 0,
  "metadata": {
    "colab": {
      "provenance": [],
      "authorship_tag": "ABX9TyMqz0xrCJFcllpW7Uhfb96p",
      "include_colab_link": true
    },
    "kernelspec": {
      "name": "python3",
      "display_name": "Python 3"
    },
    "language_info": {
      "name": "python"
    }
  },
  "cells": [
    {
      "cell_type": "markdown",
      "metadata": {
        "id": "view-in-github",
        "colab_type": "text"
      },
      "source": [
        "<a href=\"https://colab.research.google.com/github/oscarrrobles-glitch/Curso-Python-CUCSH/blob/main/Unidad_1/Actividad_1.ipynb\" target=\"_parent\"><img src=\"https://colab.research.google.com/assets/colab-badge.svg\" alt=\"Open In Colab\"/></a>"
      ]
    },
    {
      "cell_type": "code",
      "execution_count": null,
      "metadata": {
        "id": "TPqOuneOFoGc"
      },
      "outputs": [],
      "source": []
    },
    {
      "cell_type": "markdown",
      "source": [
        "OPINIO DEL python\n"
      ],
      "metadata": {
        "id": "lLZRC4zcRm9b"
      }
    },
    {
      "cell_type": "code",
      "source": [],
      "metadata": {
        "id": "IcDvp-AfRrvB"
      },
      "execution_count": null,
      "outputs": []
    },
    {
      "cell_type": "markdown",
      "source": [],
      "metadata": {
        "id": "1MTOpYIgH1Mw"
      }
    },
    {
      "cell_type": "markdown",
      "metadata": {
        "id": "578202a8"
      },
      "source": [
        "# Actividad 1\n",
        "### **Oscar Robles Vásquez**\n",
        "\n",
        "###**Departamento de Ingeniería Química**\n",
        "\n",
        "Campus: Centro Universitario de Ciencias Exactas e Ingeniería.\n",
        "\n",
        "Fecha: 10/09/2025\n",
        "\n",
        "\n",
        "\n",
        "\n"
      ]
    },
    {
      "cell_type": "code",
      "source": [
        "import datetime\n",
        "# Hora (Tiempo universal coordinado, UTC) y fecha\n",
        "now=datetime.datetime.now()\n",
        "print(f\"fecha y hora (UTC):{now.strftime('%Y-%m-%d %H:%M')}\")"
      ],
      "metadata": {
        "colab": {
          "base_uri": "https://localhost:8080/"
        },
        "id": "x-kNt3_-Ki2u",
        "outputId": "d7d89d96-c79d-4506-bb98-efde78fbbc96"
      },
      "execution_count": null,
      "outputs": [
        {
          "output_type": "stream",
          "name": "stdout",
          "text": [
            "fecha y hora (UTC):2025-09-11 00:36\n"
          ]
        }
      ]
    },
    {
      "cell_type": "markdown",
      "source": [
        "OPINION DE OPHYTON\n"
      ],
      "metadata": {
        "id": "i3dAlX2DRubB"
      }
    },
    {
      "cell_type": "code",
      "source": [
        "import sys\n",
        "#Versión de Python\n",
        "print(f\"Versión de Python: {sys.version}\")\n",
        "import platform\n",
        "#Parámetros del entorno de ejecución (ejemplo con algunas variables de entorno)\n",
        "print(\"\\nParámetros del entorno de ejecución:\")\n",
        "print(f\"Sistema Operativo:{platform.system()}\")\n",
        "print(f\"Nombre del nodo:{platform.system()}\")\n",
        "print(f\"Arquitectura:{platform.system()}\")\n",
        "print(f\"Procesador:{platform.system()}\")"
      ],
      "metadata": {
        "colab": {
          "base_uri": "https://localhost:8080/"
        },
        "id": "X_s-ckvYRz2B",
        "outputId": "a2d9b083-8bc7-4128-b307-5c39bf3c8307"
      },
      "execution_count": 5,
      "outputs": [
        {
          "output_type": "stream",
          "name": "stdout",
          "text": [
            "Versión de Python: 3.12.11 (main, Jun  4 2025, 08:56:18) [GCC 11.4.0]\n",
            "\n",
            "Parámetros del entorno de ejecución:\n",
            "Sistema Operativo:Linux\n",
            "Nombre del nodo:Linux\n",
            "Arquitectura:Linux\n",
            "Procesador:Linux\n"
          ]
        }
      ]
    }
  ]
}