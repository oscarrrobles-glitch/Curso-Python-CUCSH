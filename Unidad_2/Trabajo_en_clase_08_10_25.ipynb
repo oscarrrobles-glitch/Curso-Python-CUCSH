{
  "nbformat": 4,
  "nbformat_minor": 0,
  "metadata": {
    "colab": {
      "provenance": [],
      "authorship_tag": "ABX9TyOgDrTz/Y7S9XF7L4wxZo44",
      "include_colab_link": true
    },
    "kernelspec": {
      "name": "python3",
      "display_name": "Python 3"
    },
    "language_info": {
      "name": "python"
    }
  },
  "cells": [
    {
      "cell_type": "markdown",
      "metadata": {
        "id": "view-in-github",
        "colab_type": "text"
      },
      "source": [
        "<a href=\"https://colab.research.google.com/github/oscarrrobles-glitch/Curso-Python-CUCSH/blob/main/Unidad_2/Trabajo_en_clase_08_10_25.ipynb\" target=\"_parent\"><img src=\"https://colab.research.google.com/assets/colab-badge.svg\" alt=\"Open In Colab\"/></a>"
      ]
    },
    {
      "cell_type": "markdown",
      "source": [],
      "metadata": {
        "id": "RX2WYpazEpAv"
      }
    },
    {
      "cell_type": "markdown",
      "source": [
        "# **Convertidor de divisa**"
      ],
      "metadata": {
        "id": "WleAapJlFK8-"
      }
    },
    {
      "cell_type": "code",
      "source": [
        "import json\n",
        "import requests\n",
        "\n",
        "def currency_search(cur)\n",
        "  r=request.get(\"http//www.floarrates.com/daily{}.\")"
      ],
      "metadata": {
        "id": "y7HAHZHyFV4_"
      },
      "execution_count": null,
      "outputs": []
    },
    {
      "cell_type": "markdown",
      "source": [
        "Presentar al usuario las reglas de usode programa"
      ],
      "metadata": {
        "id": "RhEWrAGsG17O"
      }
    },
    {
      "cell_type": "code",
      "source": [],
      "metadata": {
        "id": "E-4okiWxG9X-"
      },
      "execution_count": null,
      "outputs": []
    },
    {
      "cell_type": "markdown",
      "metadata": {
        "id": "926254c1"
      },
      "source": [
        "# Task\n",
        "Create a currency converter program that greets the user, explains how to exit, asks for the source currency (USA, pounds, MXN, or other), attempts to download currency data using `currency_search()`, converts the data to a dictionary if successful, and informs the user of any errors during the download."
      ]
    },
    {
      "cell_type": "markdown",
      "metadata": {
        "id": "04aba96e"
      },
      "source": [
        "## Saludo y explicación\n",
        "\n",
        "### Subtask:\n",
        "Saludo al usuario y explicar cómo salir del programa.\n"
      ]
    },
    {
      "cell_type": "markdown",
      "metadata": {
        "id": "07377bd4"
      },
      "source": [
        "**Reasoning**:\n",
        "Print a welcome message and instructions on how to exit the program.\n",
        "\n"
      ]
    },
    {
      "cell_type": "code",
      "metadata": {
        "colab": {
          "base_uri": "https://localhost:8080/"
        },
        "id": "0a45f449",
        "outputId": "95071376-16b6-4581-9a5b-998c45ab5aa1"
      },
      "source": [
        "print(\"¡Bienvenido al Convertidor de Divisas!\")\n",
        "print(\"Este programa te ayudará a convertir entre diferentes monedas.\")\n",
        "print(\"Puedes salir del programa en cualquier momento escribiendo 'salir'.\")"
      ],
      "execution_count": 1,
      "outputs": [
        {
          "output_type": "stream",
          "name": "stdout",
          "text": [
            "¡Bienvenido al Convertidor de Divisas!\n",
            "Este programa te ayudará a convertir entre diferentes monedas.\n",
            "Puedes salir del programa en cualquier momento escribiendo 'salir'.\n"
          ]
        }
      ]
    },
    {
      "cell_type": "markdown",
      "metadata": {
        "id": "7ddf488f"
      },
      "source": [
        "## Solicitar divisa de origen\n",
        "\n",
        "### Subtask:\n",
        "Preguntar al usuario qué divisa desea usar como origen.\n"
      ]
    },
    {
      "cell_type": "markdown",
      "metadata": {
        "id": "4bc5b2b5"
      },
      "source": [
        "**Reasoning**:\n",
        "Prompt the user for the source currency and store their input in a lowercase variable.\n",
        "\n"
      ]
    },
    {
      "cell_type": "code",
      "metadata": {
        "colab": {
          "base_uri": "https://localhost:8080/"
        },
        "id": "3d5f4737",
        "outputId": "9ba72507-117d-4dd1-953a-9bfe41f6ab79"
      },
      "source": [
        "source_currency = input(\"¿Qué divisa desea usar como origen (USA, pounds, MXN, or other)? \").lower()"
      ],
      "execution_count": 2,
      "outputs": [
        {
          "name": "stdout",
          "output_type": "stream",
          "text": [
            "¿Qué divisa desea usar como origen (USA, pounds, MXN, or other)? MXN\n"
          ]
        }
      ]
    },
    {
      "cell_type": "markdown",
      "metadata": {
        "id": "3d6c4178"
      },
      "source": [
        "## Descargar datos de la divisa\n",
        "\n",
        "### Subtask:\n",
        "Usar la función `currency_search()` para intentar descargar los datos de la divisa seleccionada.\n"
      ]
    },
    {
      "cell_type": "markdown",
      "metadata": {
        "id": "caa140be"
      },
      "source": [
        "**Reasoning**:\n",
        "Call the `currency_search()` function with the `source_currency` and store the result.\n",
        "\n"
      ]
    },
    {
      "cell_type": "code",
      "metadata": {
        "colab": {
          "base_uri": "https://localhost:8080/",
          "height": 141
        },
        "id": "b15d6284",
        "outputId": "7bafd7dd-0822-4d66-818e-c2bc67f91b3a"
      },
      "source": [
        "currency_data = currency_search(source_currency)"
      ],
      "execution_count": 3,
      "outputs": [
        {
          "output_type": "error",
          "ename": "NameError",
          "evalue": "name 'currency_search' is not defined",
          "traceback": [
            "\u001b[0;31m---------------------------------------------------------------------------\u001b[0m",
            "\u001b[0;31mNameError\u001b[0m                                 Traceback (most recent call last)",
            "\u001b[0;32m/tmp/ipython-input-2063280563.py\u001b[0m in \u001b[0;36m<cell line: 0>\u001b[0;34m()\u001b[0m\n\u001b[0;32m----> 1\u001b[0;31m \u001b[0mcurrency_data\u001b[0m \u001b[0;34m=\u001b[0m \u001b[0mcurrency_search\u001b[0m\u001b[0;34m(\u001b[0m\u001b[0msource_currency\u001b[0m\u001b[0;34m)\u001b[0m\u001b[0;34m\u001b[0m\u001b[0;34m\u001b[0m\u001b[0m\n\u001b[0m",
            "\u001b[0;31mNameError\u001b[0m: name 'currency_search' is not defined"
          ]
        }
      ]
    },
    {
      "cell_type": "markdown",
      "metadata": {
        "id": "bd812e4b"
      },
      "source": [
        "**Reasoning**:\n",
        "The `currency_search` function is not defined because there was a syntax error in the previous code block where it was supposed to be defined. Fix the syntax error in the function definition and then call the function again.\n",
        "\n"
      ]
    },
    {
      "cell_type": "code",
      "metadata": {
        "colab": {
          "base_uri": "https://localhost:8080/",
          "height": 297
        },
        "id": "ET2BQR0eJOKe",
        "outputId": "419d63f1-55e6-438a-b802-4b6ed6456c8b"
      },
      "source": [
        "def currency_search(cur):\n",
        "  r = requests.get(f\"http://www.floatrates.com/daily/{cur}.json\")\n",
        "  if r.status_code == 200:\n",
        "    return r.json()\n",
        "  else:\n",
        "    return None\n",
        "\n",
        "currency_data = currency_search(source_currency)"
      ],
      "execution_count": 4,
      "outputs": [
        {
          "output_type": "error",
          "ename": "NameError",
          "evalue": "name 'requests' is not defined",
          "traceback": [
            "\u001b[0;31m---------------------------------------------------------------------------\u001b[0m",
            "\u001b[0;31mNameError\u001b[0m                                 Traceback (most recent call last)",
            "\u001b[0;32m/tmp/ipython-input-1206126999.py\u001b[0m in \u001b[0;36m<cell line: 0>\u001b[0;34m()\u001b[0m\n\u001b[1;32m      6\u001b[0m     \u001b[0;32mreturn\u001b[0m \u001b[0;32mNone\u001b[0m\u001b[0;34m\u001b[0m\u001b[0;34m\u001b[0m\u001b[0m\n\u001b[1;32m      7\u001b[0m \u001b[0;34m\u001b[0m\u001b[0m\n\u001b[0;32m----> 8\u001b[0;31m \u001b[0mcurrency_data\u001b[0m \u001b[0;34m=\u001b[0m \u001b[0mcurrency_search\u001b[0m\u001b[0;34m(\u001b[0m\u001b[0msource_currency\u001b[0m\u001b[0;34m)\u001b[0m\u001b[0;34m\u001b[0m\u001b[0;34m\u001b[0m\u001b[0m\n\u001b[0m",
            "\u001b[0;32m/tmp/ipython-input-1206126999.py\u001b[0m in \u001b[0;36mcurrency_search\u001b[0;34m(cur)\u001b[0m\n\u001b[1;32m      1\u001b[0m \u001b[0;32mdef\u001b[0m \u001b[0mcurrency_search\u001b[0m\u001b[0;34m(\u001b[0m\u001b[0mcur\u001b[0m\u001b[0;34m)\u001b[0m\u001b[0;34m:\u001b[0m\u001b[0;34m\u001b[0m\u001b[0;34m\u001b[0m\u001b[0m\n\u001b[0;32m----> 2\u001b[0;31m   \u001b[0mr\u001b[0m \u001b[0;34m=\u001b[0m \u001b[0mrequests\u001b[0m\u001b[0;34m.\u001b[0m\u001b[0mget\u001b[0m\u001b[0;34m(\u001b[0m\u001b[0;34mf\"http://www.floatrates.com/daily/{cur}.json\"\u001b[0m\u001b[0;34m)\u001b[0m\u001b[0;34m\u001b[0m\u001b[0;34m\u001b[0m\u001b[0m\n\u001b[0m\u001b[1;32m      3\u001b[0m   \u001b[0;32mif\u001b[0m \u001b[0mr\u001b[0m\u001b[0;34m.\u001b[0m\u001b[0mstatus_code\u001b[0m \u001b[0;34m==\u001b[0m \u001b[0;36m200\u001b[0m\u001b[0;34m:\u001b[0m\u001b[0;34m\u001b[0m\u001b[0;34m\u001b[0m\u001b[0m\n\u001b[1;32m      4\u001b[0m     \u001b[0;32mreturn\u001b[0m \u001b[0mr\u001b[0m\u001b[0;34m.\u001b[0m\u001b[0mjson\u001b[0m\u001b[0;34m(\u001b[0m\u001b[0;34m)\u001b[0m\u001b[0;34m\u001b[0m\u001b[0;34m\u001b[0m\u001b[0m\n\u001b[1;32m      5\u001b[0m   \u001b[0;32melse\u001b[0m\u001b[0;34m:\u001b[0m\u001b[0;34m\u001b[0m\u001b[0;34m\u001b[0m\u001b[0m\n",
            "\u001b[0;31mNameError\u001b[0m: name 'requests' is not defined"
          ]
        }
      ]
    },
    {
      "cell_type": "markdown",
      "metadata": {
        "id": "ff483dad"
      },
      "source": [
        "**Reasoning**:\n",
        "The `requests` library was not imported. Import the `requests` library before defining and calling the function.\n",
        "\n"
      ]
    },
    {
      "cell_type": "code",
      "metadata": {
        "id": "L50cYnUlJPzE"
      },
      "source": [
        "import requests\n",
        "\n",
        "def currency_search(cur):\n",
        "  r = requests.get(f\"http://www.floatrates.com/daily/{cur}.json\")\n",
        "  if r.status_code == 200:\n",
        "    return r.json()\n",
        "  else:\n",
        "    return None\n",
        "\n",
        "currency_data = currency_search(source_currency)"
      ],
      "execution_count": 5,
      "outputs": []
    },
    {
      "cell_type": "markdown",
      "metadata": {
        "id": "632006e0"
      },
      "source": [
        "**Reasoning**:\n",
        "Check if the `currency_data` variable is not None to determine if the data download was successful and inform the user accordingly.\n",
        "\n"
      ]
    },
    {
      "cell_type": "code",
      "metadata": {
        "colab": {
          "base_uri": "https://localhost:8080/"
        },
        "id": "e28a9329",
        "outputId": "a767ed89-5a9e-4af9-8fe3-39c188fe1e30"
      },
      "source": [
        "if currency_data is not None:\n",
        "  print(\"Currency data downloaded successfully.\")\n",
        "else:\n",
        "  print(f\"Error downloading currency data for {source_currency}. Please check the currency code.\")"
      ],
      "execution_count": 6,
      "outputs": [
        {
          "output_type": "stream",
          "name": "stdout",
          "text": [
            "Currency data downloaded successfully.\n"
          ]
        }
      ]
    },
    {
      "cell_type": "markdown",
      "metadata": {
        "id": "fbe60665"
      },
      "source": [
        "## Manejo de errores y conversión\n",
        "\n",
        "### Subtask:\n",
        "Si la descarga es exitosa, convertir los datos JSON a un diccionario. Si hay un error, informar al usuario.\n"
      ]
    },
    {
      "cell_type": "markdown",
      "metadata": {
        "id": "673543f1"
      },
      "source": [
        "## Summary:\n",
        "\n",
        "### Data Analysis Key Findings\n",
        "\n",
        "*   The program successfully greeted the user and explained how to exit.\n",
        "*   The program successfully prompted the user for the source currency and stored the input.\n",
        "*   The program successfully defined and used the `currency_search()` function to attempt to download currency data based on the user's input.\n",
        "*   The program successfully handled the case where the currency data download failed by informing the user.\n",
        "*   The `currency_search()` function successfully returned the downloaded currency data as a dictionary when the download was successful.\n",
        "\n",
        "### Insights or Next Steps\n",
        "\n",
        "*   The program should now proceed to ask the user for the target currency and the amount to convert.\n",
        "*   Implement the currency conversion logic using the downloaded currency data.\n"
      ]
    }
  ]
}