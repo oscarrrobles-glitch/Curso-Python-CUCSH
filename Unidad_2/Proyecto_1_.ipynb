{
  "nbformat": 4,
  "nbformat_minor": 0,
  "metadata": {
    "colab": {
      "provenance": [],
      "include_colab_link": true
    },
    "kernelspec": {
      "name": "python3",
      "display_name": "Python 3"
    },
    "language_info": {
      "name": "python"
    }
  },
  "cells": [
    {
      "cell_type": "markdown",
      "metadata": {
        "id": "view-in-github",
        "colab_type": "text"
      },
      "source": [
        "<a href=\"https://colab.research.google.com/github/oscarrrobles-glitch/Curso-Python-CUCSH/blob/main/Unidad_2/Proyecto_1_.ipynb\" target=\"_parent\"><img src=\"https://colab.research.google.com/assets/colab-badge.svg\" alt=\"Open In Colab\"/></a>"
      ]
    },
    {
      "cell_type": "code",
      "execution_count": null,
      "metadata": {
        "id": "TPqOuneOFoGc"
      },
      "outputs": [],
      "source": []
    },
    {
      "cell_type": "markdown",
      "metadata": {
        "id": "578202a8"
      },
      "source": [
        "# Proyecto 1. Chat Bot Simple.\n",
        "\n",
        "### **Oscar Robles Vásquez**\n",
        "\n",
        "###**Departamento de Ingeniería Química**\n",
        "\n",
        "###Campus: Centro Universitario de Ciencias Exactas e Ingeniería.\n",
        "\n",
        "**Fecha: 12/12/2025**\n",
        "\n",
        "\n",
        "\n",
        "\n",
        "\n"
      ]
    },
    {
      "cell_type": "code",
      "source": [
        "import datetime\n",
        "# Hora (Tiempo universal coordinado, UTC) y fecha\n",
        "now=datetime.datetime.now()\n",
        "print(f\"fecha y hora (UTC):{now.strftime('%Y-%m-%d %H:%M')}\")"
      ],
      "metadata": {
        "colab": {
          "base_uri": "https://localhost:8080/"
        },
        "id": "x-kNt3_-Ki2u",
        "outputId": "ec09a453-83ab-4930-9783-ca8981b1c193"
      },
      "execution_count": 1,
      "outputs": [
        {
          "output_type": "stream",
          "name": "stdout",
          "text": [
            "fecha y hora (UTC):2025-10-01 16:15\n"
          ]
        }
      ]
    },
    {
      "cell_type": "markdown",
      "source": [
        "**¿Cual es su opinión sobre el potencial de uso de Python en su trabajo académico o en la investigación?**\n",
        "\n",
        "Considero que el potencial de Python en el trabajo académico y la investigación es inmenso y transformador. Su sintaxis clara y su curva de aprendizaje accesible lo hacen ideal para una rápida implementación de ideas. Además, su naturaleza de código abierto promueve la colaboración y la reproducibilidad, que son cruciales para el avance de la investigación.\n"
      ],
      "metadata": {
        "id": "i3dAlX2DRubB"
      }
    },
    {
      "cell_type": "code",
      "source": [
        "import sys\n",
        "#Versión de Python\n",
        "print(f\"Versión de Python: {sys.version}\")\n",
        "import platform\n",
        "#Parámetros del entorno de ejecución (ejemplo con algunas variables de entorno)\n",
        "print(\"\\nParámetros del entorno de ejecución:\")\n",
        "print(f\"Sistema Operativo:{platform.system()}\")\n",
        "print(f\"Nombre del nodo:{platform.system()}\")\n",
        "print(f\"Arquitectura:{platform.system()}\")\n",
        "print(f\"Procesador:{platform.system()}\")"
      ],
      "metadata": {
        "colab": {
          "base_uri": "https://localhost:8080/"
        },
        "id": "X_s-ckvYRz2B",
        "outputId": "762047cb-d10b-4986-87bd-dbe9bb1ed3e2"
      },
      "execution_count": 2,
      "outputs": [
        {
          "output_type": "stream",
          "name": "stdout",
          "text": [
            "Versión de Python: 3.12.11 (main, Jun  4 2025, 08:56:18) [GCC 11.4.0]\n",
            "\n",
            "Parámetros del entorno de ejecución:\n",
            "Sistema Operativo:Linux\n",
            "Nombre del nodo:Linux\n",
            "Arquitectura:Linux\n",
            "Procesador:Linux\n"
          ]
        }
      ]
    }
  ]
}