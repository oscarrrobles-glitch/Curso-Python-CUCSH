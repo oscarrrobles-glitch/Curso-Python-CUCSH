{
  "nbformat": 4,
  "nbformat_minor": 0,
  "metadata": {
    "colab": {
      "provenance": [],
      "authorship_tag": "ABX9TyPMG507bhyNVYyzJGJe5QMO",
      "include_colab_link": true
    },
    "kernelspec": {
      "name": "python3",
      "display_name": "Python 3"
    },
    "language_info": {
      "name": "python"
    }
  },
  "cells": [
    {
      "cell_type": "markdown",
      "metadata": {
        "id": "view-in-github",
        "colab_type": "text"
      },
      "source": [
        "<a href=\"https://colab.research.google.com/github/oscarrrobles-glitch/Curso-Python-CUCSH/blob/main/Unidad_2/Proyecto_ChatBot.ipynb\" target=\"_parent\"><img src=\"https://colab.research.google.com/assets/colab-badge.svg\" alt=\"Open In Colab\"/></a>"
      ]
    },
    {
      "cell_type": "markdown",
      "source": [
        "# **Proyecto 1 ChatBot Simple**\n",
        "\n",
        "**Oscar Robles Vásquez**\n",
        "\n",
        "*Departamento de Ingeniería Química*\n",
        "\n",
        "**Campus: Centro Universitario de Ciencias Exactas e Ingeniería.**\n",
        "\n",
        "**Fecha**: 12/10/2025\n"
      ],
      "metadata": {
        "id": "vZ9yXnqOosIC"
      }
    }
  ]
}