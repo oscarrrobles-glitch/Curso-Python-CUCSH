{
  "nbformat": 4,
  "nbformat_minor": 0,
  "metadata": {
    "colab": {
      "provenance": [],
      "authorship_tag": "ABX9TyPPp+xTGRXTWBhs5yGYNCSY",
      "include_colab_link": true
    },
    "kernelspec": {
      "name": "python3",
      "display_name": "Python 3"
    },
    "language_info": {
      "name": "python"
    }
  },
  "cells": [
    {
      "cell_type": "markdown",
      "metadata": {
        "id": "view-in-github",
        "colab_type": "text"
      },
      "source": [
        "<a href=\"https://colab.research.google.com/github/oscarrrobles-glitch/Curso-Python-CUCSH/blob/main/Actividad_2.ipynb\" target=\"_parent\"><img src=\"https://colab.research.google.com/assets/colab-badge.svg\" alt=\"Open In Colab\"/></a>"
      ]
    },
    {
      "cell_type": "markdown",
      "source": [
        "**OSCAR ROBLES VÁSQUEZ**"
      ],
      "metadata": {
        "id": "CXcaCTY2C73j"
      }
    },
    {
      "cell_type": "code",
      "source": [
        "from google.colab import drive\n",
        "drive.mount('/content/drive')"
      ],
      "metadata": {
        "colab": {
          "base_uri": "https://localhost:8080/"
        },
        "id": "mTaptd-3C2sU",
        "outputId": "0df3c3d2-c511-494d-a5be-badf6647e984"
      },
      "execution_count": 10,
      "outputs": [
        {
          "output_type": "stream",
          "name": "stdout",
          "text": [
            "Mounted at /content/drive\n"
          ]
        }
      ]
    },
    {
      "cell_type": "code",
      "source": [
        "nombre_archivo = \"Introducción al Cálculo Diferencial.txt\"\n",
        "ruta = \"/content/drive/MyDrive/Colab Data/\"\n",
        "file= Introducción al Cálculo Diferencial.txt\n",
        "\n",
        "with open(ruta + nombre_archivo, 'r') as f:\n",
        "  contenido = f.read()\n",
        "  print(contenido)\n"
      ],
      "metadata": {
        "colab": {
          "base_uri": "https://localhost:8080/",
          "height": 106
        },
        "id": "taOuP-Q6HH81",
        "outputId": "7e355226-8a3f-4f7a-9a82-7e04c7b9d735"
      },
      "execution_count": 11,
      "outputs": [
        {
          "output_type": "error",
          "ename": "SyntaxError",
          "evalue": "invalid syntax (ipython-input-2119881025.py, line 3)",
          "traceback": [
            "\u001b[0;36m  File \u001b[0;32m\"/tmp/ipython-input-2119881025.py\"\u001b[0;36m, line \u001b[0;32m3\u001b[0m\n\u001b[0;31m    file= Introducción al Cálculo Diferencial.txt\u001b[0m\n\u001b[0m                       ^\u001b[0m\n\u001b[0;31mSyntaxError\u001b[0m\u001b[0;31m:\u001b[0m invalid syntax\n"
          ]
        }
      ]
    }
  ]
}